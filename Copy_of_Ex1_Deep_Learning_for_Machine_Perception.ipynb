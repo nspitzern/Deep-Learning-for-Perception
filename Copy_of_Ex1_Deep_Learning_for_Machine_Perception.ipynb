{
  "nbformat": 4,
  "nbformat_minor": 0,
  "metadata": {
    "accelerator": "GPU",
    "colab": {
      "name": "Copy of Ex1 - Deep Learning for Machine Perception.ipynb",
      "provenance": [],
      "collapsed_sections": [],
      "toc_visible": true
    },
    "kernelspec": {
      "display_name": "Python 3",
      "name": "python3"
    }
  },
  "cells": [
    {
      "cell_type": "markdown",
      "metadata": {
        "id": "mj5Gc4rTncj6"
      },
      "source": [
        "<h1><center><b>Deep Learning for Machine Perception</></center></h1>\n",
        "<h4><center>89-6874</center></h4>\n",
        "<h3><center>Exercise 1</center></h3>"
      ]
    },
    {
      "cell_type": "markdown",
      "metadata": {
        "id": "oATLsvZp6K5q"
      },
      "source": [
        "Your Names:  \n",
        "<font color='red'>\n",
        "Nadav Spitzer 302228275\n",
        "</font>\n"
      ]
    },
    {
      "cell_type": "markdown",
      "metadata": {
        "id": "Srs9mnmgrSIW"
      },
      "source": [
        "____________"
      ]
    },
    {
      "cell_type": "markdown",
      "metadata": {
        "id": "RakOdZ9Mm5Q8"
      },
      "source": [
        "In this exercise we will learn to:\n",
        "1. Load, prepare and visualize datasets.\n",
        "2. Implement Perceptron and train it.\n",
        "3. Experiment with pytorch."
      ]
    },
    {
      "cell_type": "markdown",
      "metadata": {
        "id": "4Lmcx4cf7x9o"
      },
      "source": [
        "**Instructions:**\n",
        "- Create a copy of this notebook and implement your code in it.\n",
        "- Download the dataset from [here](https://drive.google.com/file/d/1B3KrnISPjPrLzYZySUaY9q-imDBPqLWO/view?usp=sharing). (dataset.csv)\n",
        "- Make sure you don't leave empty cells or empty answers.\n",
        "- When you finish the assignment, download the notebook and submit it to the [**\"submit\"**](https://submit.cs.biu.ac.il/cgi-bin/welcome.cgi) system. \n",
        "To Download the notebook go to **\"File\"** -> **\"Download .ipynb\"**.  \n",
        "- For questions regarding the assignment send a mail to: ‫biu.cs.896874@gmail.com‬ "
      ]
    },
    {
      "cell_type": "markdown",
      "metadata": {
        "id": "j74_axPhxSUf"
      },
      "source": [
        "### **1. Introduction to Colab and Numpy**"
      ]
    },
    {
      "cell_type": "markdown",
      "metadata": {
        "id": "aVvttB5zp7JR"
      },
      "source": [
        "We use the Python programming language for all assignments in this course with the help of popular packages (like numpy, matplotlib, sklearn, scipy and pytorch)."
      ]
    },
    {
      "cell_type": "markdown",
      "metadata": {
        "id": "WfngYcGBxVe_"
      },
      "source": [
        "Go over this **[numpy tutorial](https://cs231n.github.io/python-numpy-tutorial/)** before starting this assignment and **[this notebook](https://colab.research.google.com/github/cs231n/cs231n.github.io/blob/master/python-colab.ipynb)** to understand how to work with basic packages and with Google Colab. It is important to go over them before starting this assignment."
      ]
    },
    {
      "cell_type": "markdown",
      "metadata": {
        "id": "I_MQ33uls2lu"
      },
      "source": [
        "### **2. Setup**\n",
        "Before running code on Colab:\n",
        "- Go to \"Runtime\" -> \"Change runtime type\", and make sure to choose \"GPU\" for Hardware accelerator.\n",
        "- Check your Python version at the command line by running \"!python --version\". It should be Python 3.6 by default.\n",
        "- Upload all files of this assignment (code and datasets) to your Drive (e.g \"deep_perception/assignments/assignment1\") and mount that data to the machine. See the next cells below.  \n",
        "In principle, it is also possible to upload files to the local disk of the colab machines, but such files will be deleted when the machine is restarted (not an often event)."
      ]
    },
    {
      "cell_type": "code",
      "metadata": {
        "id": "GIYZ8411uSg_",
        "outputId": "71b9daf0-2227-4ee5-e59d-8e4e98cebbf9",
        "colab": {
          "base_uri": "https://localhost:8080/"
        }
      },
      "source": [
        "# check python version\n",
        "!python --version"
      ],
      "execution_count": 1,
      "outputs": [
        {
          "output_type": "stream",
          "text": [
            "Python 3.6.9\n"
          ],
          "name": "stdout"
        }
      ]
    },
    {
      "cell_type": "code",
      "metadata": {
        "id": "TS82AoVQwt7z",
        "outputId": "83b8a558-bae7-42ff-d079-def488ecc308",
        "colab": {
          "base_uri": "https://localhost:8080/"
        }
      },
      "source": [
        "from google.colab import drive\n",
        "\n",
        "drive.mount('/content/drive', force_remount=True)\n",
        "\n",
        "# Enter the foldername in your Drive where you have saved the code and datasets.\n",
        "# Recommended path: 'deep_perception/assignments/assignment1/'\n",
        "FOLDERNAME = 'deep_perception/assignments/'\n",
        "ASSIGNMENTNAME = 'assignment1'\n",
        "\n",
        "%cd drive/My\\ Drive\n",
        "%cp -r $FOLDERNAME/$ASSIGNMENTNAME ../../\n",
        "%cd ../../"
      ],
      "execution_count": 2,
      "outputs": [
        {
          "output_type": "stream",
          "text": [
            "Mounted at /content/drive\n",
            "/content/drive/My Drive\n",
            "/content\n"
          ],
          "name": "stdout"
        }
      ]
    },
    {
      "cell_type": "markdown",
      "metadata": {
        "id": "MIdCxGP3nszs"
      },
      "source": [
        "### **3. Dataset & Preprocessing**"
      ]
    },
    {
      "cell_type": "markdown",
      "metadata": {
        "id": "U5z2WEwqrtV5"
      },
      "source": [
        "In this section, we are going to load a 2-dimensional  data and \n",
        "preprocess it using the \"numpy\" package.  "
      ]
    },
    {
      "cell_type": "code",
      "metadata": {
        "id": "IRIDf5EnmWq3"
      },
      "source": [
        "# Load numpy package\n",
        "import numpy as np"
      ],
      "execution_count": 3,
      "outputs": []
    },
    {
      "cell_type": "markdown",
      "metadata": {
        "id": "Sn_mf98fsj5p"
      },
      "source": [
        "Load the pre-generated data provided to you. Using numpy, load the file \"dataset.csv\" and print its shape. You should see that the data is a numpy array (a matrix) with 500 rows (called **data samples**) and 3 columns. The first two columns are the **features** of the samples and the last column is the **label** of each sample."
      ]
    },
    {
      "cell_type": "code",
      "metadata": {
        "id": "GHS0SG4ZvObo",
        "outputId": "d23e8163-9a78-4135-9818-a0c2a5764386",
        "colab": {
          "base_uri": "https://localhost:8080/"
        }
      },
      "source": [
        "# load data using \"np.genfromtxt\"\n",
        "data = np.genfromtxt(f\"{ASSIGNMENTNAME}/dataset.csv\", delimiter=',',dtype=np.float)\n",
        "# print 5 rows from the data\n",
        "print(data[:5])\n",
        "# print its shape\n",
        "print(\"Data shape:\", data.shape)"
      ],
      "execution_count": 4,
      "outputs": [
        {
          "output_type": "stream",
          "text": [
            "[[ 1.75111789 -1.25722467 -1.        ]\n",
            " [ 2.47513131  1.7817015   1.        ]\n",
            " [ 0.89051961 -1.60740181 -1.        ]\n",
            " [ 1.71910455 -1.91091876 -1.        ]\n",
            " [ 0.99335187  1.00259882  1.        ]]\n",
            "Data shape: (500, 3)\n"
          ],
          "name": "stdout"
        }
      ]
    },
    {
      "cell_type": "markdown",
      "metadata": {
        "id": "3tk26PWsxmHR"
      },
      "source": [
        "Split the data into features and labels and print their shape. Be careful not to change the content of the data."
      ]
    },
    {
      "cell_type": "code",
      "metadata": {
        "id": "PxcZJkImxdPF",
        "outputId": "07c1a100-387d-4cd1-f20f-f7e8b77c46da",
        "colab": {
          "base_uri": "https://localhost:8080/"
        }
      },
      "source": [
        "# split the data to features and labels\n",
        "features = data[:,0:2]\n",
        "labels = data[:,2]\n",
        "# print their shape\n",
        "print(\"Features Shape:\", features.shape)\n",
        "print(\"Labels Shape:\", labels.shape)"
      ],
      "execution_count": 5,
      "outputs": [
        {
          "output_type": "stream",
          "text": [
            "Features Shape: (500, 2)\n",
            "Labels Shape: (500,)\n"
          ],
          "name": "stdout"
        }
      ]
    },
    {
      "cell_type": "markdown",
      "metadata": {
        "id": "LFvNfVjjv1UJ"
      },
      "source": [
        "Count how many samples are from class **-1**, and how many to class **+1**. Use the variable ```labels```  from the previous cell."
      ]
    },
    {
      "cell_type": "code",
      "metadata": {
        "id": "vbwC_fKgv0rv",
        "outputId": "c56dfa40-3d8c-47fe-db4c-8d5ceb6c5525",
        "colab": {
          "base_uri": "https://localhost:8080/"
        }
      },
      "source": [
        "class_pos_idx = np.where(labels == 1)[0]\n",
        "class_neg_idx = np.where(labels == -1)[0]\n",
        "print(\"Num samples for class -1:\",len(class_neg_idx))\n",
        "print(\"Num samples for class +1:\",len(class_pos_idx))"
      ],
      "execution_count": 6,
      "outputs": [
        {
          "output_type": "stream",
          "text": [
            "Num samples for class -1: 254\n",
            "Num samples for class +1: 246\n"
          ],
          "name": "stdout"
        }
      ]
    },
    {
      "cell_type": "markdown",
      "metadata": {
        "id": "oZdpjSnbfAZw"
      },
      "source": [
        "We can now split the data into train and test. The train would be 80% of the total #samples. The rest will go for test-set. We can use ```train_test_split``` function from sklearn."
      ]
    },
    {
      "cell_type": "code",
      "metadata": {
        "id": "xZxBVSSJf-7A",
        "outputId": "5788a73e-2420-4dc3-ea3a-1bac0dbd6d14",
        "colab": {
          "base_uri": "https://localhost:8080/"
        }
      },
      "source": [
        "from sklearn.model_selection import train_test_split\n",
        "# replace features and labels with your variables\n",
        "X_train, X_test, y_train, y_test = train_test_split(features, labels, test_size=0.2, random_state=36)\n",
        "print(X_test.shape)"
      ],
      "execution_count": 7,
      "outputs": [
        {
          "output_type": "stream",
          "text": [
            "(100, 2)\n"
          ],
          "name": "stdout"
        }
      ]
    },
    {
      "cell_type": "markdown",
      "metadata": {
        "id": "pSyrs_vvr22N"
      },
      "source": [
        "### **4. Visualizations**"
      ]
    },
    {
      "cell_type": "markdown",
      "metadata": {
        "id": "ngvSNhMzylNw"
      },
      "source": [
        "It is always recommended to plot the data (when possible) and see the decision boundaries of our trained models. Since our data is a 2d vector (two features), we can plot each sample as a point in a 2d space.  \n",
        "Use ```matplotlib``` and plot a scatter plot. Make sure that samples of class -1 will be colored \"blue\" while samples of class +1 will be colored \"red\". (Read more about matplotlib [here](https://matplotlib.org/))"
      ]
    },
    {
      "cell_type": "code",
      "metadata": {
        "id": "N0BG2Fa1ZKHn"
      },
      "source": [
        "import matplotlib.pyplot as plt"
      ],
      "execution_count": 8,
      "outputs": []
    },
    {
      "cell_type": "code",
      "metadata": {
        "id": "R5bxaq4VyFgI",
        "outputId": "2aad577f-013d-4330-f833-d404d6a2b389",
        "colab": {
          "base_uri": "https://localhost:8080/",
          "height": 265
        }
      },
      "source": [
        "def plot_data(features, labels):\n",
        "  '''\n",
        "  The function plots the data on a 2d plane. It colors class -1 with the \"blue\" color \n",
        "  and class +1 with the \"red\" color.\n",
        "  '''\n",
        "  colors = ['red' if l == 1 else 'blue' for l in labels]\n",
        "  plt.scatter(features[:,0], features[:,1], c=colors, alpha=0.7)\n",
        "  \n",
        "\n",
        "plot_data(features, labels)"
      ],
      "execution_count": 9,
      "outputs": [
        {
          "output_type": "display_data",
          "data": {
            "image/png": "[encoded data removed]",
            "text/plain": [
              "<Figure size 432x288 with 1 Axes>"
            ]
          },
          "metadata": {
            "tags": [],
            "needs_background": "light"
          }
        }
      ]
    },
    {
      "cell_type": "markdown",
      "metadata": {
        "id": "WL9HyYBIgUVf"
      },
      "source": [
        "### **5. Perceptron**"
      ]
    },
    {
      "cell_type": "markdown",
      "metadata": {
        "id": "I0R2surDghVg"
      },
      "source": [
        "In this section, we  implement a Perceptron model using numpy. The perceptron aims to classify each sample to a class -1 or class +1 (binary classification task)."
      ]
    },
    {
      "cell_type": "markdown",
      "metadata": {
        "id": "5uDFLvCphNwa"
      },
      "source": [
        "**Reminder:** The perceptron model takes an input vector $\\mathbf{x}$. If the weighted sum of the inputs, $\\mathbf{w}^T\\mathbf{x}$ is greater than a threshold $b$ it outputs +1. Otherwise, it outputs a -1:\n",
        "$$\n",
        "    f(x)= \n",
        "\\begin{cases}\n",
        "    +1,& \\text{if } \\mathbf{w}^{T}\\mathbf{x}\\geq b\\\\\n",
        "    -1,              & \\text{otherwise}\n",
        "\\end{cases}$$\n",
        "\n",
        "Remember that: $ \\mathbf{w}^{T}\\mathbf{x} = \\sum_{i=1}^{n}{w_ix_i}$.\n"
      ]
    },
    {
      "cell_type": "markdown",
      "metadata": {
        "id": "hgVJIDbGkirh"
      },
      "source": [
        "![image.png](data:image/png;base64,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)"
      ]
    },
    {
      "cell_type": "markdown",
      "metadata": {
        "id": "84uxCxo0lAqg"
      },
      "source": [
        "The main goal of the learning algorithm is to find  a vector  $\\mathbf{w}$ capable of separating positive samples (y = +1) from negative (y = -1) samples.\n",
        "\n",
        "To do that, we should learn two things: weights $\\mathbf{w}$ and a bias term $b$. \n",
        "\n",
        "Instead of updating the bias separately, we can extend the input vector by appending a value of 1. The corresponding weight takes the role of the bias term. For this reason, we only update here the weight vector $\\mathbf{w}$\n",
        "\n",
        "**Learning $\\mathbf{w}$:** (You have to write this code)\n",
        "\n",
        "Start by initializing $\\mathbf{w}$ randomly.  \n",
        "$$\n",
        " \\mathbf{w}^0 = \\mathrm{a \\, vector \\,\\,of \\,\\,small \\,\\,random \\,\\,values}\n",
        "$$\n",
        "When the model makes a mistake on a sample $\\mathbf{x}_i$, then fix $\\mathbf{w}$ using the update rule:\n",
        "\n",
        "$$\\mathbf{w}^{(t+1)} = \\begin{cases}\n",
        "    \\mathbf{w}^{(t)},& \\text{if   } y_i (\\mathbf{w}^{(t)})^T\\mathbf{x}_i > 0\\\\\n",
        "    \\mathbf{w}^{(t)} + \\eta y_i \\mathbf{x}_i,              & \\text{otherwise}\n",
        "\\end{cases}$$\n",
        "\n",
        "where $\\eta$ is the learning rate. $\\eta$ controls how much the weights change at each update.  "
      ]
    },
    {
      "cell_type": "markdown",
      "metadata": {
        "id": "BZ6DlvL3dsQQ"
      },
      "source": [
        "**Handle the bias term:**\n",
        "We add a column of ones to the train and test features so we won't need to learn the bias. The train and test shapes will be (#samples,3). There are plenty of ways to do it. One way is using ```np.hstack``` function. "
      ]
    },
    {
      "cell_type": "code",
      "metadata": {
        "id": "XenUNHIMeSxN"
      },
      "source": [
        "def add_ones_column(X):\n",
        "  # add a column of ones to the data\n",
        "  ones_col = np.ones((X.shape[0],1))\n",
        "  return np.hstack((ones_col,X))\n",
        "\n",
        "X_train = add_ones_column(X_train)\n",
        "X_test = add_ones_column(X_test)\n"
      ],
      "execution_count": 10,
      "outputs": []
    },
    {
      "cell_type": "markdown",
      "metadata": {
        "id": "J9KPQCIqkZVY"
      },
      "source": [
        "Implement all methods of the Perceptron class below."
      ]
    },
    {
      "cell_type": "code",
      "metadata": {
        "id": "8T859gqngXzo"
      },
      "source": [
        "class Perceptron(object):\n",
        "    def __init__(self, no_of_inputs, iterations=10, learning_rate=0.009):\n",
        "        '''\n",
        "        The function initialized the Perceptron model.\n",
        "        no_of_inputs - number of inputs to the perceptron (excluding the bias)\n",
        "        iterations - number of iterations on the training data\n",
        "        learning_rate - learning rate, how much the weight will change during update\n",
        "        '''\n",
        "        self.iterations = iterations\n",
        "        self.learning_rate = learning_rate\n",
        "        np.random.seed(30) # set random seed, should not be altered!\n",
        "        self.weights = np.random.randn(no_of_inputs + 1) # +1 is for the bias\n",
        "           \n",
        "    def predict(self, inputs):\n",
        "        '''\n",
        "        The function makes a prediction for the given inputs.\n",
        "        Output: -1 or 1.\n",
        "        '''\n",
        "        y_hat = np.sum(self.weights.dot(inputs))\n",
        "\n",
        "        return np.sign(y_hat)\n",
        "\n",
        "    def evaluate(self, inputs, labels):\n",
        "        '''\n",
        "        The function makes a predictions for the given inputs and compares \n",
        "        against the labels (ground truth). It returns the accuracy.\n",
        "        Accuracy = #correct_classification / #total\n",
        "        '''\n",
        "        ######################\n",
        "        ### YOUR CODE HERE ###\n",
        "        ######################\n",
        "        correct = 0\n",
        "        for row, label in zip(inputs, labels):\n",
        "            y_hat = self.predict(row)\n",
        "            if y_hat == label:\n",
        "                correct += 1\n",
        "\n",
        "        accuracy = correct / labels.shape[0]\n",
        "        return accuracy\n",
        "\n",
        "    def train(self, training_inputs, train_labels, test_inputs, test_labels, verbose=True):\n",
        "        '''\n",
        "        The function train a perceptron model given training_inputs and train_labels.\n",
        "        It also evaluates the model on the train set and test set after every iteration.\n",
        "        '''\n",
        "        for i in range(self.iterations):\n",
        "            for x, y in zip(training_inputs, train_labels):\n",
        "                ######################\n",
        "                ### YOUR CODE HERE ###\n",
        "                ######################\n",
        "                y_hat = self.predict(x)\n",
        "\n",
        "                if y_hat * y < 0:\n",
        "                    self.weights += self.learning_rate * x * y\n",
        "            if verbose:\n",
        "              print(f\"Iteration No.{i},\\\n",
        "               Train accuracy: {self.evaluate(training_inputs, train_labels)},\\\n",
        "                Test accuracy: {self.evaluate(test_inputs, test_labels)}\")"
      ],
      "execution_count": 11,
      "outputs": []
    },
    {
      "cell_type": "markdown",
      "metadata": {
        "id": "8lXoTe1uphUs"
      },
      "source": [
        "Create a ```Perceptron``` instance and train it on the training data from before. For each iteration, print the train accuracy and test accuracy.  \n",
        "\n",
        "You can set the hyperparamets to:  \n",
        "iterations = 10  \n",
        "learning_rate = 0.009."
      ]
    },
    {
      "cell_type": "code",
      "metadata": {
        "id": "J9UzDmQnp8Bx",
        "outputId": "e0852eef-4331-45c0-fe00-0d529a849fc8",
        "colab": {
          "base_uri": "https://localhost:8080/"
        }
      },
      "source": [
        "# create a Perceptron model and train it.\n",
        "######################\n",
        "### YOUR CODE HERE ###\n",
        "######################\n",
        "model = Perceptron(features.shape[1], 10, 0.009)\n",
        "model.train(X_train, y_train, X_test, y_test)"
      ],
      "execution_count": 12,
      "outputs": [
        {
          "output_type": "stream",
          "text": [
            "Iteration No.0,               Train accuracy: 0.8125,                Test accuracy: 0.8\n",
            "Iteration No.1,               Train accuracy: 0.8975,                Test accuracy: 0.91\n",
            "Iteration No.2,               Train accuracy: 0.9325,                Test accuracy: 0.95\n",
            "Iteration No.3,               Train accuracy: 0.95,                Test accuracy: 0.97\n",
            "Iteration No.4,               Train accuracy: 0.9525,                Test accuracy: 0.99\n",
            "Iteration No.5,               Train accuracy: 0.955,                Test accuracy: 0.99\n",
            "Iteration No.6,               Train accuracy: 0.965,                Test accuracy: 0.99\n",
            "Iteration No.7,               Train accuracy: 0.9625,                Test accuracy: 0.99\n",
            "Iteration No.8,               Train accuracy: 0.9625,                Test accuracy: 0.99\n",
            "Iteration No.9,               Train accuracy: 0.9625,                Test accuracy: 0.99\n"
          ],
          "name": "stdout"
        }
      ]
    },
    {
      "cell_type": "markdown",
      "metadata": {
        "id": "pdvuYi56ssS9"
      },
      "source": [
        "### **6. Decision Boundary**"
      ]
    },
    {
      "cell_type": "markdown",
      "metadata": {
        "id": "8XDc9ZSv6KUQ"
      },
      "source": [
        "Let's visualize the decision boundary of the trained Perceptron. Use the function below for your plot."
      ]
    },
    {
      "cell_type": "code",
      "metadata": {
        "id": "VMzY3fJ064cG"
      },
      "source": [
        "def plot_decision_boundary(features, linear_model):\n",
        "  '''\n",
        "  Plots the decision boundary for a given linear model\n",
        "  Inputs:\n",
        "  features - numpy array with the data features, its shape should be (100,2)\n",
        "  linear_model - trained model\n",
        "  '''\n",
        "  nb_col = []\n",
        "  for i in range(X_train.shape[-1]):\n",
        "    if not (X_train[:,i].min() == 1 and X_train[:,i].max()==1):\n",
        "      nb_col.append(i)\n",
        "      \n",
        "  x_min, x_max = features[:, nb_col[0]].min() - .5, features[:, nb_col[0]].max() + .5\n",
        "  y_min, y_max = features[:, nb_col[1]].min() - .5, features[:, nb_col[1]].max() + .5\n",
        "  h = .02\n",
        "  xx, yy = np.meshgrid(np.arange(x_min, x_max, h), np.arange(y_min, y_max, h))\n",
        "  inputs = add_ones_column(np.c_[xx.ravel(), yy.ravel()])\n",
        "  if \"sklearn\" in str(type(linear_model)):\n",
        "    Z = linear_model.predict(inputs)\n",
        "  else:\n",
        "    Z = []\n",
        "    for x in inputs:\n",
        "      Z += [linear_model.predict(x)]\n",
        "  Z = np.array(Z).reshape(xx.shape)\n",
        "  plt.contour(xx, yy, Z, colors='k',linestyles=['-'])"
      ],
      "execution_count": 13,
      "outputs": []
    },
    {
      "cell_type": "code",
      "metadata": {
        "id": "tk2uE1L2tKC5",
        "outputId": "7e91939b-2434-4987-c16b-e586e70ca0c1",
        "colab": {
          "base_uri": "https://localhost:8080/",
          "height": 354
        }
      },
      "source": [
        "plt.rcParams['figure.figsize'] = 10, 5\n",
        "plt.subplot(1,2,1)\n",
        "# plot the training samples here\n",
        "plot_data(X_train[:,1:], y_train)\n",
        "# use \"plot_decision_boundary\" above to plot the decision boundary of the Perceptron model\n",
        "plot_decision_boundary(X_train, model)\n",
        "plt.title(\"Train\")\n",
        "\n",
        "plt.subplot(1,2,2)\n",
        "# plot the test samples here\n",
        "plot_data(X_test[:, 1:], y_test)\n",
        "# use \"plot_decision_boundary\" above to plot the decision boundary of the Perceptron model\n",
        "plot_decision_boundary(X_test, model)\n",
        "plt.title(\"Test\")"
      ],
      "execution_count": 14,
      "outputs": [
        {
          "output_type": "execute_result",
          "data": {
            "text/plain": [
              "Text(0.5, 1.0, 'Test')"
            ]
          },
          "metadata": {
            "tags": []
          },
          "execution_count": 14
        },
        {
          "output_type": "display_data",
          "data": {
            "image/png": "[encoded data removed]",
            "text/plain": [
              "<Figure size 720x360 with 2 Axes>"
            ]
          },
          "metadata": {
            "tags": [],
            "needs_background": "light"
          }
        }
      ]
    },
    {
      "cell_type": "markdown",
      "metadata": {
        "id": "o7e8OfO6td4I"
      },
      "source": [
        "**Q**: Can the perceptron model ever reach accuracy = 100% on the **training data**? Explain how if you think it's possible or why if you think it's not."
      ]
    },
    {
      "cell_type": "markdown",
      "metadata": {
        "id": "f3fuAfUkxxi4"
      },
      "source": [
        "**A**: <font color='red'>\n",
        "No. Because the perceptron is a linear classifier and the data is not lineary seperated.\n",
        "</font>\n"
      ]
    },
    {
      "cell_type": "markdown",
      "metadata": {
        "id": "EKh5d4w_3OPw"
      },
      "source": [
        "### **7. The effect of training-set size**"
      ]
    },
    {
      "cell_type": "markdown",
      "metadata": {
        "id": "AgH9OF256XpH"
      },
      "source": [
        "Let's investigate how the size of the training set affects the train and test accuracy.\n",
        "We start by training our perceptron model on only 2 train samples, then on 5, 25, 50, 150, 250 and 400 samples.   \n",
        "We evaluate all models on the test set."
      ]
    },
    {
      "cell_type": "code",
      "metadata": {
        "id": "julZXemt9_ZO",
        "outputId": "36038689-0998-4afb-f060-2c715d8461b2",
        "colab": {
          "base_uri": "https://localhost:8080/"
        }
      },
      "source": [
        "train_samples = [2,5,25,50,150,250,400]\n",
        "\n",
        "train_acc_ls, test_acc_ls = [], []\n",
        "\n",
        "for train_size in train_samples:\n",
        "  # randomly select `train_size` samples\n",
        "  idx = np.random.choice(len(X_train), size=train_size, replace=False)\n",
        "  small_X_train, small_y_train = X_train[idx], y_train[idx]\n",
        "  # create and train a perceptron model\n",
        "  model = Perceptron(no_of_inputs=2, iterations=100, learning_rate=0.01)\n",
        "  model.train(small_X_train, small_y_train, X_test, y_test, verbose=False)\n",
        "  # evaluate the model on train and test\n",
        "  curr_train_acc = model.evaluate(small_X_train, small_y_train)\n",
        "  curr_test_acc = model.evaluate(X_test, y_test)\n",
        "  # keep track on it\n",
        "  train_acc_ls += [curr_train_acc]\n",
        "  test_acc_ls += [curr_test_acc]\n",
        "\n",
        "  print(f\"Train size: {train_size}, Train accuracy: {curr_train_acc}, Test accuracy: {curr_test_acc}\")"
      ],
      "execution_count": 15,
      "outputs": [
        {
          "output_type": "stream",
          "text": [
            "Train size: 2, Train accuracy: 1.0, Test accuracy: 0.51\n",
            "Train size: 5, Train accuracy: 1.0, Test accuracy: 0.8\n",
            "Train size: 25, Train accuracy: 1.0, Test accuracy: 0.97\n",
            "Train size: 50, Train accuracy: 1.0, Test accuracy: 0.97\n",
            "Train size: 150, Train accuracy: 0.9666666666666667, Test accuracy: 0.98\n",
            "Train size: 250, Train accuracy: 0.964, Test accuracy: 0.98\n",
            "Train size: 400, Train accuracy: 0.9675, Test accuracy: 0.98\n"
          ],
          "name": "stdout"
        }
      ]
    },
    {
      "cell_type": "code",
      "metadata": {
        "id": "eRZZ86dC_25L",
        "outputId": "72296684-85e7-460e-d06a-608338ad3369",
        "colab": {
          "base_uri": "https://localhost:8080/",
          "height": 352
        }
      },
      "source": [
        "# plot train and test accuracy as a function of train size\n",
        "train_samples = [\"2\",\"5\",\"25\",\"50\",\"150\",\"250\",\"400\"]\n",
        "plt.plot(train_samples, train_acc_ls)\n",
        "plt.plot(train_samples, test_acc_ls)\n",
        "plt.legend([\"train_acc\",\"test_acc\"])\n",
        "plt.xlabel(\"#Train samples\")\n",
        "plt.ylabel(\"Accuracy\")"
      ],
      "execution_count": 16,
      "outputs": [
        {
          "output_type": "execute_result",
          "data": {
            "text/plain": [
              "Text(0, 0.5, 'Accuracy')"
            ]
          },
          "metadata": {
            "tags": []
          },
          "execution_count": 16
        },
        {
          "output_type": "display_data",
          "data": {
            "image/png": "[encoded data removed]",
            "text/plain": [
              "<Figure size 720x360 with 1 Axes>"
            ]
          },
          "metadata": {
            "tags": [],
            "needs_background": "light"
          }
        }
      ]
    },
    {
      "cell_type": "markdown",
      "metadata": {
        "id": "r0vqwlrAB-7n"
      },
      "source": [
        "**Q**: What can we learn from the plot above? What is the effect that occurs when we train a model on a very small train set? How does it affect the train and test accuracy?"
      ]
    },
    {
      "cell_type": "markdown",
      "metadata": {
        "id": "indUnxKkGOU2"
      },
      "source": [
        "**A**: <font color='red'>\n",
        "Due to low samples size we overfit those examples and get a high accuracy on the training set, but we encounter new examples in the test set - which is the reason we have low accuracy on the test set (we can't have enough generalization on low samples size).\n",
        "\n",
        "We can see the accuracy increase as we get more samples, because our model can generlize better.\n",
        "</font>\n"
      ]
    },
    {
      "cell_type": "markdown",
      "metadata": {
        "id": "gXhXAHB23nwZ"
      },
      "source": [
        "### **8. Regularization**"
      ]
    },
    {
      "cell_type": "markdown",
      "metadata": {
        "id": "AsZ5wpkQ40d9"
      },
      "source": [
        "We wish to improve the test accuracy when training with little data. As discussed in class, overfitting can be reduced by adding a regularization term to the loss:\n",
        "\n",
        "$$\\hat{E}(w) = \\mathrm{loss}_\\mathbf{w}(h(x),y) + \\frac{\\lambda}{2}||\\mathbf{w}||^2$$\n",
        "\n",
        "where $\\lambda$ is the regularization coefficient (hyper parameter) and $||\\mathbf{w}||^2$ is a L2 regularization.  \n",
        "Reminder: $||\\mathbf{w}||^2 = \\sum_{i=1}^{k}{w_i^2}$"
      ]
    },
    {
      "cell_type": "markdown",
      "metadata": {
        "id": "J5EjPMpp-R5y"
      },
      "source": [
        "**Q**: What will be the new update rule when the loss includes regularization?  "
      ]
    },
    {
      "cell_type": "markdown",
      "metadata": {
        "id": "yq7L3GG5_z7a"
      },
      "source": [
        "**A**: <font color='red'>\n",
        "$$\\mathbf{w}^{(t+1)} = \\begin{cases}\n",
        "    \\mathbf{w}^{(t)},& \\text{if   } y_i (\\mathbf{w}^{(t)})^T\\mathbf{x}_i > 0\\\\\n",
        "    \\mathbf{w}^{(t)} + {\\eta} y_i \\mathbf{x}_i - {\\eta}{\\lambda}\\mathbf{w^{(t)}},              & \\text{otherwise}\n",
        "\\end{cases}$$\n",
        "</font>\n"
      ]
    },
    {
      "cell_type": "markdown",
      "metadata": {
        "id": "JD14N2PdAXkk"
      },
      "source": [
        "Implement the Perceptron algorithm again but with regularization. All functions should be the same from the previous section except the ``train`` function.  \n",
        "**Important: Don't regularize the bias term ($\\mathbf{w}_0$).**"
      ]
    },
    {
      "cell_type": "code",
      "metadata": {
        "id": "ZSM_WlXMAhjK"
      },
      "source": [
        "class RegularizedPerceptron(object):\n",
        "    def __init__(self, no_of_inputs, lambda_value, iterations=10, learning_rate=0.009):\n",
        "        '''\n",
        "        The function initialized the Perceptron model.\n",
        "        no_of_inputs - number of inputs to the perceptron (excluding the bias)\n",
        "        iterations - number of iterations on the training data\n",
        "        learning_rate - learning rate, how much the weight will change during update\n",
        "        '''\n",
        "        self.iterations = iterations\n",
        "        self.learning_rate = learning_rate\n",
        "        np.random.seed(30) # set random seed, should not be altered!\n",
        "        self.weights = np.random.randn(no_of_inputs + 1)\n",
        "        self.lambda_value = lambda_value\n",
        "           \n",
        "    def predict(self, inputs):\n",
        "        '''\n",
        "        The function makes a prediction for the given inputs.\n",
        "        Output: -1 or 1.\n",
        "        '''\n",
        "        ######################\n",
        "        ### YOUR CODE HERE ###\n",
        "        ######################\n",
        "        y_hat = np.sum(self.weights.dot(inputs))\n",
        "\n",
        "        return np.sign(y_hat)\n",
        "\n",
        "    def evaluate(self, inputs, labels):\n",
        "        '''\n",
        "        The function makes a predictions for the given inputs and compares \n",
        "        against the labels (ground truth). It returns the accuracy.\n",
        "        Accuracy = #correct_classification / #total\n",
        "        '''\n",
        "        ######################\n",
        "        ### YOUR CODE HERE ###\n",
        "        ######################\n",
        "        correct = 0\n",
        "        for row, label in zip(inputs, labels):\n",
        "            y_hat = self.predict(row)\n",
        "            if y_hat == label:\n",
        "                correct += 1\n",
        "\n",
        "        accuracy = correct / labels.shape[0]\n",
        "        return accuracy\n",
        "\n",
        "    def train(self, training_inputs, train_labels, test_inputs, test_labels, verbose=True):\n",
        "        '''\n",
        "        The function train a perceptron model given training_inputs and train_labels.\n",
        "        It also evaluates the model on the train set and test set after every iteration.\n",
        "        '''\n",
        "        for i in range(self.iterations):\n",
        "            for inputs, label in zip(training_inputs, train_labels):\n",
        "                ######################\n",
        "                ### YOUR CODE HERE ###\n",
        "                ######################\n",
        "                y_hat = self.predict(inputs)\n",
        "\n",
        "                if y_hat * label < 0:\n",
        "                    self.weights[0] += self.learning_rate * inputs[0] * label\n",
        "\n",
        "                    self.weights[1:] += self.learning_rate * (inputs[1:] * label\\\n",
        "                                     - self.lambda_value * self.weights[1:])\n",
        "            if verbose:\n",
        "              print(f\"Iteration No.{i},\\\n",
        "               Train accuracy: {self.evaluate(training_inputs, train_labels)},\\\n",
        "                Test accuracy: {self.evaluate(test_inputs, test_labels)}\")"
      ],
      "execution_count": 17,
      "outputs": []
    },
    {
      "cell_type": "markdown",
      "metadata": {
        "id": "FhOUdczBBUxR"
      },
      "source": [
        "Let's compare ```RegularizedPerceptron``` against our regular ```Perceptron``` on a trainset with 5 samples."
      ]
    },
    {
      "cell_type": "code",
      "metadata": {
        "id": "86xG6CO6CFW-"
      },
      "source": [
        "# set lambda value\n",
        "lambda_value = 0.04"
      ],
      "execution_count": 18,
      "outputs": []
    },
    {
      "cell_type": "code",
      "metadata": {
        "id": "Fotbzy6KBhd2",
        "outputId": "c05e9930-473e-40df-beb3-1e7c02ef0c37",
        "colab": {
          "base_uri": "https://localhost:8080/"
        }
      },
      "source": [
        "train_size = 5\n",
        "\n",
        "# randomly select `train_size` samples\n",
        "idx = np.random.choice(len(X_train), size=train_size, replace=False)\n",
        "small_X_train, small_y_train = X_train[idx], y_train[idx]\n",
        "\n",
        "# create and train a perceptron model\n",
        "perceptron = Perceptron(no_of_inputs=2, iterations=100, learning_rate=0.01)\n",
        "perceptron.train(small_X_train, small_y_train, X_test, y_test, verbose=False)\n",
        "\n",
        "# evaluate the model on train and test\n",
        "print(f\"Train Acc: {perceptron.evaluate(small_X_train, small_y_train)},\\\n",
        " Test Acc: {perceptron.evaluate(X_test, y_test)}\")\n",
        "\n",
        "\n",
        "# create and train a regularized perceptron model\n",
        "reg_perceptron = RegularizedPerceptron(no_of_inputs=2, lambda_value = lambda_value,\n",
        "                                       iterations=100, learning_rate=0.01)\n",
        "reg_perceptron.train(small_X_train, small_y_train, X_test, y_test, verbose=False)\n",
        "\n",
        "# evaluate the model on train and test\n",
        "print(f\"Train Acc: {reg_perceptron.evaluate(small_X_train, small_y_train)},\\\n",
        " Test Acc: {reg_perceptron.evaluate(X_test, y_test)}\")\n"
      ],
      "execution_count": 19,
      "outputs": [
        {
          "output_type": "stream",
          "text": [
            "Train Acc: 1.0, Test Acc: 0.8\n",
            "Train Acc: 1.0, Test Acc: 0.8\n"
          ],
          "name": "stdout"
        }
      ]
    },
    {
      "cell_type": "markdown",
      "metadata": {
        "id": "rgFYCz3jCreC"
      },
      "source": [
        "We arbitrarily chose $\\lambda = 0.04$ and increased the test accuracy by 3%. We can probably do better.    \n",
        "Do a hyperparameter search to find a lambda value that gives the best test accuracy.  \n",
        "(Note: Usually, hyperparameter search is done on a validation set, since the data is small we do it here on the test set)."
      ]
    },
    {
      "cell_type": "code",
      "metadata": {
        "id": "_T7VdzTBDWXO",
        "outputId": "dd1d8bc7-5c43-4bbf-afc6-aeba30692a33",
        "colab": {
          "base_uri": "https://localhost:8080/"
        }
      },
      "source": [
        "# find best lambda value\n",
        "# For lambda in [...]: train and evaluate RegularizedPerceptron.\n",
        "# Find model with highest accuracy\n",
        "######################\n",
        "### YOUR CODE HERE ###\n",
        "######################\n",
        "for lambda_val in np.arange(50,51, 0.01):\n",
        "    # create and train a regularized perceptron model\n",
        "    reg_perceptron = RegularizedPerceptron(no_of_inputs=2, lambda_value = lambda_val,\n",
        "                                        iterations=100, learning_rate=0.01)\n",
        "    reg_perceptron.train(small_X_train, small_y_train, X_test, y_test, verbose=False)\n",
        "\n",
        "    # evaluate the model on train and test\n",
        "    print(f\"Train Acc: {reg_perceptron.evaluate(small_X_train, small_y_train)},\\\n",
        "    Test Acc: {reg_perceptron.evaluate(X_test, y_test)}, Lambda: {lambda_val}\")"
      ],
      "execution_count": 32,
      "outputs": [
        {
          "output_type": "stream",
          "text": [
            "Train Acc: 1.0,    Test Acc: 0.91, Lambda: 50.0\n",
            "Train Acc: 1.0,    Test Acc: 0.91, Lambda: 50.01\n",
            "Train Acc: 1.0,    Test Acc: 0.91, Lambda: 50.019999999999996\n",
            "Train Acc: 1.0,    Test Acc: 0.91, Lambda: 50.029999999999994\n",
            "Train Acc: 1.0,    Test Acc: 0.91, Lambda: 50.03999999999999\n",
            "Train Acc: 1.0,    Test Acc: 0.91, Lambda: 50.04999999999999\n",
            "Train Acc: 1.0,    Test Acc: 0.91, Lambda: 50.05999999999999\n",
            "Train Acc: 1.0,    Test Acc: 0.91, Lambda: 50.069999999999986\n",
            "Train Acc: 1.0,    Test Acc: 0.91, Lambda: 50.079999999999984\n",
            "Train Acc: 1.0,    Test Acc: 0.91, Lambda: 50.08999999999998\n",
            "Train Acc: 1.0,    Test Acc: 0.91, Lambda: 50.09999999999998\n",
            "Train Acc: 1.0,    Test Acc: 0.91, Lambda: 50.10999999999998\n",
            "Train Acc: 1.0,    Test Acc: 0.91, Lambda: 50.119999999999976\n",
            "Train Acc: 1.0,    Test Acc: 0.91, Lambda: 50.129999999999974\n",
            "Train Acc: 1.0,    Test Acc: 0.91, Lambda: 50.13999999999997\n",
            "Train Acc: 1.0,    Test Acc: 0.91, Lambda: 50.14999999999997\n",
            "Train Acc: 1.0,    Test Acc: 0.91, Lambda: 50.15999999999997\n",
            "Train Acc: 1.0,    Test Acc: 0.91, Lambda: 50.169999999999966\n",
            "Train Acc: 1.0,    Test Acc: 0.91, Lambda: 50.179999999999964\n",
            "Train Acc: 1.0,    Test Acc: 0.91, Lambda: 50.18999999999996\n",
            "Train Acc: 1.0,    Test Acc: 0.91, Lambda: 50.19999999999996\n",
            "Train Acc: 1.0,    Test Acc: 0.91, Lambda: 50.20999999999996\n",
            "Train Acc: 1.0,    Test Acc: 0.91, Lambda: 50.219999999999956\n",
            "Train Acc: 1.0,    Test Acc: 0.91, Lambda: 50.229999999999954\n",
            "Train Acc: 1.0,    Test Acc: 0.91, Lambda: 50.23999999999995\n",
            "Train Acc: 1.0,    Test Acc: 0.91, Lambda: 50.24999999999995\n",
            "Train Acc: 1.0,    Test Acc: 0.91, Lambda: 50.25999999999995\n",
            "Train Acc: 1.0,    Test Acc: 0.91, Lambda: 50.269999999999946\n",
            "Train Acc: 1.0,    Test Acc: 0.91, Lambda: 50.279999999999944\n",
            "Train Acc: 1.0,    Test Acc: 0.91, Lambda: 50.28999999999994\n",
            "Train Acc: 1.0,    Test Acc: 0.91, Lambda: 50.29999999999994\n",
            "Train Acc: 1.0,    Test Acc: 0.91, Lambda: 50.30999999999994\n",
            "Train Acc: 1.0,    Test Acc: 0.91, Lambda: 50.319999999999936\n",
            "Train Acc: 1.0,    Test Acc: 0.91, Lambda: 50.329999999999934\n",
            "Train Acc: 1.0,    Test Acc: 0.91, Lambda: 50.33999999999993\n",
            "Train Acc: 1.0,    Test Acc: 0.91, Lambda: 50.34999999999993\n",
            "Train Acc: 1.0,    Test Acc: 0.91, Lambda: 50.35999999999993\n",
            "Train Acc: 1.0,    Test Acc: 0.91, Lambda: 50.369999999999926\n",
            "Train Acc: 1.0,    Test Acc: 0.91, Lambda: 50.379999999999924\n",
            "Train Acc: 1.0,    Test Acc: 0.91, Lambda: 50.38999999999992\n",
            "Train Acc: 1.0,    Test Acc: 0.91, Lambda: 50.39999999999992\n",
            "Train Acc: 1.0,    Test Acc: 0.91, Lambda: 50.40999999999992\n",
            "Train Acc: 1.0,    Test Acc: 0.91, Lambda: 50.419999999999916\n",
            "Train Acc: 1.0,    Test Acc: 0.91, Lambda: 50.429999999999914\n",
            "Train Acc: 1.0,    Test Acc: 0.91, Lambda: 50.43999999999991\n",
            "Train Acc: 1.0,    Test Acc: 0.91, Lambda: 50.44999999999991\n",
            "Train Acc: 1.0,    Test Acc: 0.91, Lambda: 50.45999999999991\n",
            "Train Acc: 1.0,    Test Acc: 0.91, Lambda: 50.46999999999991\n",
            "Train Acc: 1.0,    Test Acc: 0.91, Lambda: 50.479999999999905\n",
            "Train Acc: 1.0,    Test Acc: 0.91, Lambda: 50.4899999999999\n",
            "Train Acc: 1.0,    Test Acc: 0.91, Lambda: 50.4999999999999\n",
            "Train Acc: 1.0,    Test Acc: 0.91, Lambda: 50.5099999999999\n",
            "Train Acc: 1.0,    Test Acc: 0.91, Lambda: 50.5199999999999\n",
            "Train Acc: 1.0,    Test Acc: 0.91, Lambda: 50.529999999999895\n",
            "Train Acc: 1.0,    Test Acc: 0.91, Lambda: 50.53999999999989\n",
            "Train Acc: 1.0,    Test Acc: 0.91, Lambda: 50.54999999999989\n",
            "Train Acc: 1.0,    Test Acc: 0.91, Lambda: 50.55999999999989\n",
            "Train Acc: 1.0,    Test Acc: 0.91, Lambda: 50.56999999999989\n",
            "Train Acc: 1.0,    Test Acc: 0.91, Lambda: 50.579999999999885\n",
            "Train Acc: 1.0,    Test Acc: 0.91, Lambda: 50.58999999999988\n",
            "Train Acc: 1.0,    Test Acc: 0.91, Lambda: 50.59999999999988\n",
            "Train Acc: 1.0,    Test Acc: 0.91, Lambda: 50.60999999999988\n",
            "Train Acc: 1.0,    Test Acc: 0.91, Lambda: 50.61999999999988\n",
            "Train Acc: 1.0,    Test Acc: 0.91, Lambda: 50.629999999999875\n",
            "Train Acc: 1.0,    Test Acc: 0.91, Lambda: 50.63999999999987\n",
            "Train Acc: 1.0,    Test Acc: 0.91, Lambda: 50.64999999999987\n",
            "Train Acc: 1.0,    Test Acc: 0.91, Lambda: 50.65999999999987\n",
            "Train Acc: 1.0,    Test Acc: 0.91, Lambda: 50.66999999999987\n",
            "Train Acc: 1.0,    Test Acc: 0.91, Lambda: 50.679999999999865\n",
            "Train Acc: 1.0,    Test Acc: 0.91, Lambda: 50.68999999999986\n",
            "Train Acc: 1.0,    Test Acc: 0.91, Lambda: 50.69999999999986\n",
            "Train Acc: 1.0,    Test Acc: 0.91, Lambda: 50.70999999999986\n",
            "Train Acc: 1.0,    Test Acc: 0.91, Lambda: 50.71999999999986\n",
            "Train Acc: 1.0,    Test Acc: 0.91, Lambda: 50.729999999999855\n",
            "Train Acc: 1.0,    Test Acc: 0.91, Lambda: 50.73999999999985\n",
            "Train Acc: 1.0,    Test Acc: 0.91, Lambda: 50.74999999999985\n",
            "Train Acc: 1.0,    Test Acc: 0.91, Lambda: 50.75999999999985\n",
            "Train Acc: 1.0,    Test Acc: 0.91, Lambda: 50.76999999999985\n",
            "Train Acc: 1.0,    Test Acc: 0.91, Lambda: 50.779999999999845\n",
            "Train Acc: 1.0,    Test Acc: 0.91, Lambda: 50.78999999999984\n",
            "Train Acc: 1.0,    Test Acc: 0.91, Lambda: 50.79999999999984\n",
            "Train Acc: 1.0,    Test Acc: 0.91, Lambda: 50.80999999999984\n",
            "Train Acc: 1.0,    Test Acc: 0.91, Lambda: 50.81999999999984\n",
            "Train Acc: 1.0,    Test Acc: 0.91, Lambda: 50.829999999999835\n",
            "Train Acc: 1.0,    Test Acc: 0.91, Lambda: 50.83999999999983\n",
            "Train Acc: 1.0,    Test Acc: 0.91, Lambda: 50.84999999999983\n",
            "Train Acc: 1.0,    Test Acc: 0.91, Lambda: 50.85999999999983\n",
            "Train Acc: 1.0,    Test Acc: 0.91, Lambda: 50.86999999999983\n",
            "Train Acc: 1.0,    Test Acc: 0.91, Lambda: 50.879999999999825\n",
            "Train Acc: 1.0,    Test Acc: 0.91, Lambda: 50.88999999999982\n",
            "Train Acc: 1.0,    Test Acc: 0.91, Lambda: 50.89999999999982\n",
            "Train Acc: 1.0,    Test Acc: 0.91, Lambda: 50.90999999999982\n",
            "Train Acc: 1.0,    Test Acc: 0.91, Lambda: 50.91999999999982\n",
            "Train Acc: 1.0,    Test Acc: 0.91, Lambda: 50.929999999999815\n",
            "Train Acc: 1.0,    Test Acc: 0.91, Lambda: 50.93999999999981\n",
            "Train Acc: 1.0,    Test Acc: 0.91, Lambda: 50.94999999999981\n",
            "Train Acc: 1.0,    Test Acc: 0.91, Lambda: 50.95999999999981\n",
            "Train Acc: 1.0,    Test Acc: 0.91, Lambda: 50.96999999999981\n",
            "Train Acc: 1.0,    Test Acc: 0.91, Lambda: 50.979999999999805\n",
            "Train Acc: 1.0,    Test Acc: 0.91, Lambda: 50.9899999999998\n"
          ],
          "name": "stdout"
        }
      ]
    },
    {
      "cell_type": "markdown",
      "metadata": {
        "id": "GiFqqe_uyAz-"
      },
      "source": [
        "**Q**:What is the best $\\lambda$ you found? What is the train and test accuracy for that model?"
      ]
    },
    {
      "cell_type": "markdown",
      "metadata": {
        "id": "9gHd2LYEyPnS"
      },
      "source": [
        "**A**: <font color='red'>\n",
        "Yes, for $\\lambda = 50$ the accuracy for the test set is 0.91.\n",
        "</font>\n"
      ]
    },
    {
      "cell_type": "markdown",
      "metadata": {
        "id": "HBpnVJ_MsJZA"
      },
      "source": [
        "### **9. From Numpy to Torch and back**"
      ]
    },
    {
      "cell_type": "markdown",
      "metadata": {
        "id": "INnRpLuzsQ8U"
      },
      "source": [
        "**Pytorch** is a framework for building and training neural networks. It behaves like Numpy arrays. These Numpy arrays, after all, are just tensors. PyTorch takes these tensors and makes it simple to move them to GPUs for the faster processing needed when training neural networks. It also provides a module that automatically calculates gradients (for backpropagation!) and another module specifically for building neural networks. All together, PyTorch ends up being more coherent with Python and the Numpy/Scipy stack compared to TensorFlow and other frameworks.  \n",
        "For more, go over [their documentation](https://pytorch.org/tutorials/index.html)."
      ]
    },
    {
      "cell_type": "markdown",
      "metadata": {
        "id": "8g-uogoOyjG7"
      },
      "source": [
        "##### **Tensors**"
      ]
    },
    {
      "cell_type": "markdown",
      "metadata": {
        "id": "japcLzZhyvcP"
      },
      "source": [
        "Tensors are a generalization of matrices. A vector is a 1-dimensional tensor, a matrix is a 2-dimensional tensor, an array with three indices is a 3-dimensional tensor (RGB color images for example). The fundamental data structure for neural networks are tensors and PyTorch (as well as pretty much every other deep learning framework) is built around tensors."
      ]
    },
    {
      "cell_type": "markdown",
      "metadata": {
        "id": "ARkqRl1gy4me"
      },
      "source": [
        "![image.png](data:image/png;base64,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)"
      ]
    },
    {
      "cell_type": "code",
      "metadata": {
        "id": "iazg66DisLs8"
      },
      "source": [
        "# Import pytorch\n",
        "import torch"
      ],
      "execution_count": 21,
      "outputs": []
    },
    {
      "cell_type": "markdown",
      "metadata": {
        "id": "6NlSNM1UzNQW"
      },
      "source": [
        "Experiment with tensors, follow the instructions below."
      ]
    },
    {
      "cell_type": "markdown",
      "metadata": {
        "id": "Qf0D4DdczYuH"
      },
      "source": [
        "1. Create a tensor with shape (1, 10), one row and ten columns, that contains values randomly distributed according to the normal distribution with a mean of zero and standard deviation of one."
      ]
    },
    {
      "cell_type": "code",
      "metadata": {
        "id": "gQ3zLUHYzJik",
        "outputId": "5ac8a081-2244-420f-b94e-fb89d25a9d0f",
        "colab": {
          "base_uri": "https://localhost:8080/"
        }
      },
      "source": [
        "q = torch.tensor(np.random.normal(0, 1, [1, 10]))\n",
        "print(q, q.shape)"
      ],
      "execution_count": 22,
      "outputs": [
        {
          "output_type": "stream",
          "text": [
            "tensor([[ 0.4706, -0.1007,  0.3038, -1.7260,  1.5851,  0.1343, -1.1069,  1.5782,\n",
            "          0.1075, -0.7640]], dtype=torch.float64) torch.Size([1, 10])\n"
          ],
          "name": "stdout"
        }
      ]
    },
    {
      "cell_type": "markdown",
      "metadata": {
        "id": "8YakCh8VzkaN"
      },
      "source": [
        "2. Create the same tensor as above, but place it on the gpu."
      ]
    },
    {
      "cell_type": "code",
      "metadata": {
        "id": "QbUsGIDBzhiu",
        "outputId": "188a7ab4-4cd4-442d-83cf-390a2793e65e",
        "colab": {
          "base_uri": "https://localhost:8080/"
        }
      },
      "source": [
        "w = torch.tensor(np.random.normal(0, 1, [1, 10])).cuda()\n",
        "print(w, w.shape)"
      ],
      "execution_count": 23,
      "outputs": [
        {
          "output_type": "stream",
          "text": [
            "tensor([[-0.7752,  1.3838,  0.7604, -0.2856,  0.5384, -2.0839,  0.9378, -0.0058,\n",
            "         -0.4675, -0.4230]], device='cuda:0', dtype=torch.float64) torch.Size([1, 10])\n"
          ],
          "name": "stdout"
        }
      ]
    },
    {
      "cell_type": "markdown",
      "metadata": {
        "id": "cVOsW04w0EsL"
      },
      "source": [
        "3. Create another tensor on the gpu with shape (1,10), that contains values randomly distributed according to the uniform distribution on [0,1]."
      ]
    },
    {
      "cell_type": "code",
      "metadata": {
        "id": "D8jkjYuDz2dX",
        "outputId": "5bdba54e-ccc0-4bfe-d3e2-cfb14ec4b982",
        "colab": {
          "base_uri": "https://localhost:8080/"
        }
      },
      "source": [
        "e = torch.tensor(np.random.uniform(0, 1, [1, 10])).cuda()\n",
        "print(e, e.shape)"
      ],
      "execution_count": 24,
      "outputs": [
        {
          "output_type": "stream",
          "text": [
            "tensor([[0.5154, 0.4724, 0.3862, 0.7441, 0.3352, 0.5954, 0.3161, 0.3463, 0.2448,\n",
            "         0.6980]], device='cuda:0', dtype=torch.float64) torch.Size([1, 10])\n"
          ],
          "name": "stdout"
        }
      ]
    },
    {
      "cell_type": "markdown",
      "metadata": {
        "id": "TsvgrBRA1tdq"
      },
      "source": [
        "4. Reshape the tensor with shape (1,10) to (10,1). There are two different ways to achive it!"
      ]
    },
    {
      "cell_type": "code",
      "metadata": {
        "id": "567W54Wt12RD",
        "outputId": "c285d501-5e66-4f6e-d0b4-48d312cdd755",
        "colab": {
          "base_uri": "https://localhost:8080/"
        }
      },
      "source": [
        "# first way - use reshape\n",
        "e1 = e.reshape([10, 1])\n",
        "print(e1, e1.shape)\n",
        "# second way - use T (transpose)\n",
        "e2 = e.T\n",
        "print(e2, e2.shape)"
      ],
      "execution_count": 25,
      "outputs": [
        {
          "output_type": "stream",
          "text": [
            "tensor([[0.5154],\n",
            "        [0.4724],\n",
            "        [0.3862],\n",
            "        [0.7441],\n",
            "        [0.3352],\n",
            "        [0.5954],\n",
            "        [0.3161],\n",
            "        [0.3463],\n",
            "        [0.2448],\n",
            "        [0.6980]], device='cuda:0', dtype=torch.float64) torch.Size([10, 1])\n",
            "tensor([[0.5154],\n",
            "        [0.4724],\n",
            "        [0.3862],\n",
            "        [0.7441],\n",
            "        [0.3352],\n",
            "        [0.5954],\n",
            "        [0.3161],\n",
            "        [0.3463],\n",
            "        [0.2448],\n",
            "        [0.6980]], device='cuda:0', dtype=torch.float64) torch.Size([10, 1])\n"
          ],
          "name": "stdout"
        }
      ]
    },
    {
      "cell_type": "markdown",
      "metadata": {
        "id": "PTQVkX3H0bLn"
      },
      "source": [
        "5. Do a matrix multiplication of the two tensors on the gpu. What is the shape of the results?"
      ]
    },
    {
      "cell_type": "code",
      "metadata": {
        "id": "Td7_XL2Q0l_W",
        "outputId": "27ea7b53-6058-4e01-8fc3-0e77e3b138ab",
        "colab": {
          "base_uri": "https://localhost:8080/"
        }
      },
      "source": [
        "e3 = e1.matmul(w)\n",
        "print(e3)\n",
        "print(\"shape: \", e3.shape)\n",
        "\n",
        "e3 = w.matmul(e1)\n",
        "print(e3)\n",
        "print(\"shape: \", e3.shape)\n",
        "\n",
        "print(\"The shape depends on the order of the matrix multiplication.\")"
      ],
      "execution_count": 26,
      "outputs": [
        {
          "output_type": "stream",
          "text": [
            "tensor([[-3.9952e-01,  7.1321e-01,  3.9189e-01, -1.4722e-01,  2.7746e-01,\n",
            "         -1.0740e+00,  4.8332e-01, -2.9779e-03, -2.4093e-01, -2.1801e-01],\n",
            "        [-3.6618e-01,  6.5370e-01,  3.5919e-01, -1.3493e-01,  2.5431e-01,\n",
            "         -9.8439e-01,  4.4299e-01, -2.7294e-03, -2.2083e-01, -1.9982e-01],\n",
            "        [-2.9934e-01,  5.3438e-01,  2.9362e-01, -1.1030e-01,  2.0789e-01,\n",
            "         -8.0470e-01,  3.6213e-01, -2.2312e-03, -1.8052e-01, -1.6335e-01],\n",
            "        [-5.7685e-01,  1.0298e+00,  5.6583e-01, -2.1256e-01,  4.0062e-01,\n",
            "         -1.5507e+00,  6.9784e-01, -4.2996e-03, -3.4787e-01, -3.1478e-01],\n",
            "        [-2.5988e-01,  4.6392e-01,  2.5491e-01, -9.5760e-02,  1.8048e-01,\n",
            "         -6.9861e-01,  3.1438e-01, -1.9370e-03, -1.5672e-01, -1.4181e-01],\n",
            "        [-4.6158e-01,  8.2400e-01,  4.5276e-01, -1.7008e-01,  3.2056e-01,\n",
            "         -1.2408e+00,  5.5839e-01, -3.4404e-03, -2.7835e-01, -2.5188e-01],\n",
            "        [-2.4506e-01,  4.3748e-01,  2.4038e-01, -9.0302e-02,  1.7020e-01,\n",
            "         -6.5879e-01,  2.9646e-01, -1.8266e-03, -1.4779e-01, -1.3373e-01],\n",
            "        [-2.6841e-01,  4.7916e-01,  2.6328e-01, -9.8905e-02,  1.8641e-01,\n",
            "         -7.2155e-01,  3.2471e-01, -2.0006e-03, -1.6186e-01, -1.4647e-01],\n",
            "        [-1.8979e-01,  3.3881e-01,  1.8617e-01, -6.9935e-02,  1.3181e-01,\n",
            "         -5.1020e-01,  2.2960e-01, -1.4146e-03, -1.1445e-01, -1.0357e-01],\n",
            "        [-5.4104e-01,  9.6586e-01,  5.3071e-01, -1.9937e-01,  3.7575e-01,\n",
            "         -1.4545e+00,  6.5452e-01, -4.0328e-03, -3.2628e-01, -2.9524e-01]],\n",
            "       device='cuda:0', dtype=torch.float64)\n",
            "shape:  torch.Size([10, 10])\n",
            "tensor([[-0.8403]], device='cuda:0', dtype=torch.float64)\n",
            "shape:  torch.Size([1, 1])\n",
            "The shape depends on the order of the matrix multiplication.\n"
          ],
          "name": "stdout"
        }
      ]
    },
    {
      "cell_type": "markdown",
      "metadata": {
        "id": "kPvLID0S2XQQ"
      },
      "source": [
        "6. PyTorch has a great feature for converting between Numpy arrays and Torch tensors. To create a tensor from a Numpy array, use ```torch.from_numpy()```. To convert a tensor to a Numpy array, use the ```.numpy() ``` method.\n",
        "\n",
        "- Create a numpy array with shape (4,3), that contains values randomly distributed according to the uniform distribution on [0,1]. and convert it to a torch tensor."
      ]
    },
    {
      "cell_type": "code",
      "metadata": {
        "id": "J_NpYSuI00Jj",
        "outputId": "9eca7d64-b9df-4d47-85b0-038be1898307",
        "colab": {
          "base_uri": "https://localhost:8080/"
        }
      },
      "source": [
        "d = np.random.uniform(0, 1, [4, 3])\n",
        "d1 = torch.from_numpy(d)\n",
        "print(d1)"
      ],
      "execution_count": 27,
      "outputs": [
        {
          "output_type": "stream",
          "text": [
            "tensor([[0.2121, 0.2673, 0.3739],\n",
            "        [0.5731, 0.9174, 0.8190],\n",
            "        [0.1632, 0.0242, 0.7847],\n",
            "        [0.2649, 0.3394, 0.8144]], dtype=torch.float64)\n"
          ],
          "name": "stdout"
        }
      ]
    },
    {
      "cell_type": "markdown",
      "metadata": {
        "id": "AAW_tiif2mYm"
      },
      "source": [
        "7. The memory is shared between the Numpy array and Torch tensor, so if you change the values in-place of one object, the other will change as well.\n",
        "\n",
        "- Change a value of the tensor (multiply the first cell by 2 for example) and see that it changes the numpy array as well."
      ]
    },
    {
      "cell_type": "code",
      "metadata": {
        "id": "CQ6pupgF3L4n",
        "outputId": "0b900380-c138-41ae-b0ab-44bba0b724f6",
        "colab": {
          "base_uri": "https://localhost:8080/"
        }
      },
      "source": [
        "d[0, 0] *= 2\n",
        "print(d1)"
      ],
      "execution_count": 28,
      "outputs": [
        {
          "output_type": "stream",
          "text": [
            "tensor([[0.4242, 0.2673, 0.3739],\n",
            "        [0.5731, 0.9174, 0.8190],\n",
            "        [0.1632, 0.0242, 0.7847],\n",
            "        [0.2649, 0.3394, 0.8144]], dtype=torch.float64)\n"
          ],
          "name": "stdout"
        }
      ]
    }
  ]
}